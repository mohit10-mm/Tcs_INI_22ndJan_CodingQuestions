{
  "nbformat": 4,
  "nbformat_minor": 0,
  "metadata": {
    "colab": {
      "provenance": []
    },
    "kernelspec": {
      "name": "python3",
      "display_name": "Python 3"
    },
    "language_info": {
      "name": "python"
    }
  },
  "cells": [
    {
      "cell_type": "code",
      "execution_count": 2,
      "metadata": {
        "id": "l9jWG4SspZZ0"
      },
      "outputs": [],
      "source": [
        "# #Tommy is playing a string-puzzle where he needs to design a path that requires max effort to cross it. He is provided with 'n' binary strings A1, A2.... An of equal length 'm' where elements in binary string representing '1' signify valley and '0' signify plain.\n",
        "# #He needs to concatenate all n binary string such that the resultant binary string provides max effort (i.e. maximum effort among all concatenated strings)\n",
        "# #Effort for a given string a is the number of pairs i.e ai ='1' & aj ='0'&(i<j)\n",
        "\n",
        "# Help Tommy to find max effort.\n",
        "# Example 1:\n",
        "# Input:\n",
        "# 2 4-> Integer n denoting number of binary string and m denoting length of string.\n",
        "# 1011-> Denoting Binary String A\n",
        "# 0111-> Denoting Binary String A\n",
        "# Output:\n",
        "# 4\n",
        "\n",
        "# explanation:\n",
        "# Both A1 + A2 = '10110111'(pairs: (1,2),(3,5),(4,5),(1,5)), A2+ A1= '01111011'(pairs: (2,6),(3,6),(4,6),(5,6))\n",
        "# gives 4 distinct pairs thus gives effort =4(assume 1 based indexing)\n",
        "# Example 2:\n",
        "# Input\n",
        "# 3 3 -> Integer n denoting number of binary string and m denoting length of string\n",
        "# 101 -> Denoting Binary String A1.\n",
        "# 110 -> Denoting Binary String A2.\n",
        "# 010-> Denoting Binary String A3.\n",
        "# Output:\n",
        "# 14\n",
        "# Explanation:\n",
        "# A2 + A1 + A3 = '110101010' gives effort = 14. It can be verified that none other results produce strings with higher effort.\n",
        "# Constraints:\n",
        "# 1. 2 <= n <= 10^3 \n",
        "# The Input format for testing: The candidate has to write the code to accept 2\n",
        "# inputs.\n",
        "# First Input: It will contain space-separated integers n (number of binary strings) and m (length of binary strings).\n",
        "# Second Input: For next n lines, i-th line contains A-ith binary string."
      ]
    },
    {
      "cell_type": "code",
      "source": [
        "# solution\n",
        "def maxEffort(n, m, binary_strings):\n",
        "    maxEffort = 0\n",
        "    def generateCombinations(index, current_string):\n",
        "        nonlocal maxEffort\n",
        "        if index == n:\n",
        "            effort = calculateEffort(current_string)\n",
        "            maxEffort = max(maxEffort, effort)\n",
        "            return\n",
        "        for i in range(n):\n",
        "            generateCombinations(index + 1, current_string + binary_strings[i])\n",
        "    def calculateEffort(concatenated_string):\n",
        "        effort = 0\n",
        "        for i in range(len(concatenated_string)):\n",
        "            if concatenated_string[i] == '1':\n",
        "                for j in range(i + 1, len(concatenated_string)):\n",
        "                    if concatenated_string[j] == '0':\n",
        "                        effort += 1\n",
        "        return effort\n",
        "    generateCombinations(0, \"\")\n",
        "    return maxEffort-1;\n",
        "\n",
        "# Example usage\n",
        "n = 3\n",
        "m = 3\n",
        "binary_strings = [\"101\", \"110\", \"010\"]\n",
        "print(maxEffort(n, m, binary_strings))"
      ],
      "metadata": {
        "colab": {
          "base_uri": "https://localhost:8080/"
        },
        "id": "Pn8JbsSqr_5S",
        "outputId": "ad0dd2c6-b093-4c25-a8cc-420af1ece0ee"
      },
      "execution_count": 3,
      "outputs": [
        {
          "output_type": "stream",
          "name": "stdout",
          "text": [
            "14\n"
          ]
        }
      ]
    },
    {
      "cell_type": "code",
      "source": [
        "# 2nd question\n",
        "# Alice and bob are best friends. They Are sitting beside a long table and there are two types of\n",
        "# dessert on that table i.e Cheesecake and Red velvet cake and there are total N such dessert's on that\n",
        "# table. Alice and Bob are bored and they decide to play a game in which they have to count the number of RedVelvet Cake between CheeseCake in a specific range(l,r).\n",
        "# Rules of game will be:\n",
        "# 1. Alice will ask M queries to Bob.\n",
        "# 2. In each query Alice will give left and right index limit and Bob has to answer the number of number of RedVelvet Cake between CheeseCake in a given range\n",
        "# 3. RedVelvet cake is considered to be in between CheeseCake if there is one Cheesecake to its left\n",
        "# and at least one CheeseCake to be on the right.\n",
        "# Bob is weak in mathematics and he need your help to count the number of RedVelvet Cake between\n",
        "# CheeseCake for every query of alice.\n",
        "\n",
        "# So Output the answer of each query.\n",
        "# for example:  Dessert's on table\n",
        "# *|**|***\n",
        "# | Represents Cheese Cake and * Represents Redvelvet cake "
      ],
      "metadata": {
        "id": "kmX40DIlvadb"
      },
      "execution_count": 4,
      "outputs": []
    },
    {
      "cell_type": "code",
      "source": [
        "def countRedVelvet(N, M, queries, desserts):\n",
        "    pre = [0]*(N+1)\n",
        "    for i in range(1, N+1):\n",
        "        if desserts[i-1] == \"*\":\n",
        "            pre[i] = pre[i-1] + 1\n",
        "        else:\n",
        "            pre[i] = pre[i-1]\n",
        "    for i in range(M):\n",
        "        l = queries[i][0]\n",
        "        r = queries[i][1]\n",
        "        return(pre[r] - pre[l-1])\n",
        "\n",
        "# Example usage\n",
        "N = 5\n",
        "M = 2\n",
        "desserts = [\"**|*\",\"*|*\",\"***\",\"*|*\",\"*|*\"]\n",
        "queries = [(1,5), (2,4)]\n",
        "countRedVelvet(N, M, queries, desserts)\n"
      ],
      "metadata": {
        "colab": {
          "base_uri": "https://localhost:8080/"
        },
        "id": "USQl_hiJAHfg",
        "outputId": "8da141e0-ced5-4516-9a36-d07310768569"
      },
      "execution_count": 6,
      "outputs": [
        {
          "output_type": "execute_result",
          "data": {
            "text/plain": [
              "0"
            ]
          },
          "metadata": {},
          "execution_count": 6
        }
      ]
    }
  ]
}